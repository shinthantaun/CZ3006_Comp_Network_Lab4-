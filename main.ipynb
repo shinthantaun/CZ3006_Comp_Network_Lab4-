{
 "cells": [
  {
   "cell_type": "markdown",
   "id": "13d80a3d",
   "metadata": {},
   "source": [
    "# Lab 4"
   ]
  },
  {
   "cell_type": "code",
   "execution_count": 1,
   "id": "d5d3983a",
   "metadata": {},
   "outputs": [],
   "source": [
    "# Import Libraries\n",
    "import time\n",
    "import math\n",
    "import socket\n",
    "import folium\n",
    "import requests\n",
    "import itertools \n",
    "import numpy as np\n",
    "import pandas as pd\n",
    "import networkx as nx\n",
    "import seaborn as sns\n",
    "import matplotlib.pyplot as plt\n",
    "from pyvis.network import Network\n",
    "from folium.plugins import MarkerCluster"
   ]
  },
  {
   "cell_type": "code",
   "execution_count": 2,
   "id": "7e88b881",
   "metadata": {},
   "outputs": [],
   "source": [
    "# Just a function to swap pandas cols\n",
    "def swap_columns(df, col1, col2):\n",
    "    col_list = list(df.columns)\n",
    "    x, y = col_list.index(col1), col_list.index(col2)\n",
    "    col_list[y], col_list[x] = col_list[x], col_list[y]\n",
    "    df = df[col_list]\n",
    "    return df"
   ]
  },
  {
   "cell_type": "markdown",
   "id": "dd315bc9",
   "metadata": {},
   "source": [
    "### Read and Clean Data"
   ]
  },
  {
   "cell_type": "code",
   "execution_count": 3,
   "id": "5631dc55",
   "metadata": {
    "scrolled": true
   },
   "outputs": [
    {
     "data": {
      "text/html": [
       "<div>\n",
       "<style scoped>\n",
       "    .dataframe tbody tr th:only-of-type {\n",
       "        vertical-align: middle;\n",
       "    }\n",
       "\n",
       "    .dataframe tbody tr th {\n",
       "        vertical-align: top;\n",
       "    }\n",
       "\n",
       "    .dataframe thead th {\n",
       "        text-align: right;\n",
       "    }\n",
       "</style>\n",
       "<table border=\"1\" class=\"dataframe\">\n",
       "  <thead>\n",
       "    <tr style=\"text-align: right;\">\n",
       "      <th></th>\n",
       "      <th>Type</th>\n",
       "      <th>sflow_agent_address</th>\n",
       "      <th>inputPort</th>\n",
       "      <th>outputPort</th>\n",
       "      <th>src_MAC</th>\n",
       "      <th>dst_MAC</th>\n",
       "      <th>ethernet_type</th>\n",
       "      <th>in_vlan</th>\n",
       "      <th>out_vlan</th>\n",
       "      <th>src_IP</th>\n",
       "      <th>...</th>\n",
       "      <th>IP_protocol</th>\n",
       "      <th>ip_tos</th>\n",
       "      <th>ip_ttl</th>\n",
       "      <th>udp_src_port/tcp_src_port/icmp_type</th>\n",
       "      <th>udp_dst_port/tcp_dst_port/icmp_code</th>\n",
       "      <th>tcp_flags</th>\n",
       "      <th>packet_size</th>\n",
       "      <th>IP_size</th>\n",
       "      <th>sampling_rate</th>\n",
       "      <th>Unknown_Col</th>\n",
       "    </tr>\n",
       "  </thead>\n",
       "  <tbody>\n",
       "    <tr>\n",
       "      <th>0</th>\n",
       "      <td>FLOW</td>\n",
       "      <td>aa.aa.aa.aa</td>\n",
       "      <td>137</td>\n",
       "      <td>200</td>\n",
       "      <td>d404ff55fd4d</td>\n",
       "      <td>80711fc76001</td>\n",
       "      <td>0x0800</td>\n",
       "      <td>919.0</td>\n",
       "      <td>280</td>\n",
       "      <td>130.246.176.22</td>\n",
       "      <td>...</td>\n",
       "      <td>6</td>\n",
       "      <td>0x00</td>\n",
       "      <td>50</td>\n",
       "      <td>51216.0</td>\n",
       "      <td>23505</td>\n",
       "      <td>0x10</td>\n",
       "      <td>1518</td>\n",
       "      <td>1500</td>\n",
       "      <td>2048</td>\n",
       "      <td>NaN</td>\n",
       "    </tr>\n",
       "  </tbody>\n",
       "</table>\n",
       "<p>1 rows × 21 columns</p>\n",
       "</div>"
      ],
      "text/plain": [
       "   Type sflow_agent_address  inputPort  outputPort       src_MAC  \\\n",
       "0  FLOW         aa.aa.aa.aa        137         200  d404ff55fd4d   \n",
       "\n",
       "        dst_MAC ethernet_type  in_vlan  out_vlan          src_IP  ...  \\\n",
       "0  80711fc76001        0x0800    919.0       280  130.246.176.22  ...   \n",
       "\n",
       "  IP_protocol  ip_tos ip_ttl  udp_src_port/tcp_src_port/icmp_type  \\\n",
       "0           6    0x00     50                              51216.0   \n",
       "\n",
       "   udp_dst_port/tcp_dst_port/icmp_code  tcp_flags packet_size  IP_size  \\\n",
       "0                                23505       0x10        1518     1500   \n",
       "\n",
       "   sampling_rate  Unknown_Col  \n",
       "0           2048          NaN  \n",
       "\n",
       "[1 rows x 21 columns]"
      ]
     },
     "execution_count": 3,
     "metadata": {},
     "output_type": "execute_result"
    }
   ],
   "source": [
    "FILE = \"SFlow_Data_1.csv.csv\"\n",
    "data = pd.read_csv(FILE, delimiter=',',header=None,index_col=False)\n",
    "# Add header\n",
    "data.columns = ['Type','sflow_agent_address','inputPort','outputPort'\n",
    "             ,'src_MAC','dst_MAC','ethernet_type','in_vlan','out_vlan'\n",
    "             ,'src_IP','dst_IP','IP_protocol','ip_tos','ip_ttl'\n",
    "             ,'udp_src_port/tcp_src_port/icmp_type','udp_dst_port/tcp_dst_port/icmp_code'\n",
    "             ,'tcp_flags','packet_size','IP_size','sampling_rate','Unknown_Col']\n",
    "\n",
    "data.head(1)"
   ]
  },
  {
   "cell_type": "code",
   "execution_count": 4,
   "id": "31f26c2e",
   "metadata": {},
   "outputs": [
    {
     "data": {
      "text/plain": [
       "(68065, 20)"
      ]
     },
     "execution_count": 4,
     "metadata": {},
     "output_type": "execute_result"
    }
   ],
   "source": [
    "flowData = data.loc[data['Type'] == 'FLOW']\n",
    "flowData = flowData.dropna(axis=1,how='all')\n",
    "flowData.shape"
   ]
  },
  {
   "cell_type": "code",
   "execution_count": 5,
   "id": "63628576",
   "metadata": {},
   "outputs": [
    {
     "data": {
      "text/plain": [
       "(1305, 21)"
      ]
     },
     "execution_count": 5,
     "metadata": {},
     "output_type": "execute_result"
    }
   ],
   "source": [
    "cntrData = data.loc[data['Type'] != 'FLOW']\n",
    "cntrData = cntrData.dropna(axis=1,how='all')\n",
    "cntrData.shape"
   ]
  },
  {
   "cell_type": "markdown",
   "id": "e38bdcd9",
   "metadata": {},
   "source": [
    "### EXERCISE 4A: TOP TALKERS AND LISTENERS"
   ]
  },
  {
   "cell_type": "markdown",
   "id": "3d8c9b38",
   "metadata": {},
   "source": [
    "#### Top 5 Talkers"
   ]
  },
  {
   "cell_type": "markdown",
   "id": "fd5e91ae",
   "metadata": {},
   "source": [
    "Answer may differ due to different IP API."
   ]
  },
  {
   "cell_type": "markdown",
   "id": "fbe8795f",
   "metadata": {},
   "source": [
    "IP API: https://ipapi.co/"
   ]
  },
  {
   "cell_type": "code",
   "execution_count": 6,
   "id": "4a89c2ff",
   "metadata": {},
   "outputs": [],
   "source": [
    "# Get organisation of ip addresses\n",
    "def getOrg(ipAddress):\n",
    "    response = requests.get(f'https://ipapi.co/{ipAddress}/json/')\n",
    "    while response.status_code == 429:\n",
    "        time.sleep(10)\n",
    "        response = requests.get(f'https://ipapi.co/{ipAddress}/json/')\n",
    "        \n",
    "    return response.json().get(\"org\")"
   ]
  },
  {
   "cell_type": "code",
   "execution_count": 7,
   "id": "03bc8c10",
   "metadata": {},
   "outputs": [
    {
     "data": {
      "text/html": [
       "<div>\n",
       "<style scoped>\n",
       "    .dataframe tbody tr th:only-of-type {\n",
       "        vertical-align: middle;\n",
       "    }\n",
       "\n",
       "    .dataframe tbody tr th {\n",
       "        vertical-align: top;\n",
       "    }\n",
       "\n",
       "    .dataframe thead th {\n",
       "        text-align: right;\n",
       "    }\n",
       "</style>\n",
       "<table border=\"1\" class=\"dataframe\">\n",
       "  <thead>\n",
       "    <tr style=\"text-align: right;\">\n",
       "      <th></th>\n",
       "      <th>src_IP</th>\n",
       "      <th>Organisation</th>\n",
       "      <th>Count</th>\n",
       "    </tr>\n",
       "  </thead>\n",
       "  <tbody>\n",
       "    <tr>\n",
       "      <th>0</th>\n",
       "      <td>193.62.192.8</td>\n",
       "      <td>Jisc Services Limited</td>\n",
       "      <td>3041</td>\n",
       "    </tr>\n",
       "    <tr>\n",
       "      <th>1</th>\n",
       "      <td>155.69.160.32</td>\n",
       "      <td>Nanyang Technological University</td>\n",
       "      <td>2975</td>\n",
       "    </tr>\n",
       "    <tr>\n",
       "      <th>2</th>\n",
       "      <td>130.14.250.11</td>\n",
       "      <td>NLM-GW</td>\n",
       "      <td>2604</td>\n",
       "    </tr>\n",
       "    <tr>\n",
       "      <th>3</th>\n",
       "      <td>14.139.196.58</td>\n",
       "      <td>NKN EDGE Network</td>\n",
       "      <td>2452</td>\n",
       "    </tr>\n",
       "    <tr>\n",
       "      <th>4</th>\n",
       "      <td>140.112.8.139</td>\n",
       "      <td>Taiwan Academic Network</td>\n",
       "      <td>2056</td>\n",
       "    </tr>\n",
       "  </tbody>\n",
       "</table>\n",
       "</div>"
      ],
      "text/plain": [
       "          src_IP                      Organisation  Count\n",
       "0   193.62.192.8             Jisc Services Limited   3041\n",
       "1  155.69.160.32  Nanyang Technological University   2975\n",
       "2  130.14.250.11                            NLM-GW   2604\n",
       "3  14.139.196.58                  NKN EDGE Network   2452\n",
       "4  140.112.8.139           Taiwan Academic Network   2056"
      ]
     },
     "execution_count": 7,
     "metadata": {},
     "output_type": "execute_result"
    }
   ],
   "source": [
    "tempData = flowData\n",
    "topTalkers = tempData['src_IP'].value_counts().to_frame(name=\"Top 5 Talkers\")\n",
    "topTalkers.reset_index(inplace=True)\n",
    "topTalkers.columns=['src_IP','Count']\n",
    "topTalkers=topTalkers.head(5)\n",
    "topTalkers[\"Organisation\"]= topTalkers['src_IP'].apply(getOrg)\n",
    "topTalkers = swap_columns(topTalkers,'Count','Organisation')\n",
    "topTalkers.head()"
   ]
  },
  {
   "cell_type": "markdown",
   "id": "72c29722",
   "metadata": {},
   "source": [
    "#### Top 5 Listeners"
   ]
  },
  {
   "cell_type": "code",
   "execution_count": 8,
   "id": "dcd18a25",
   "metadata": {},
   "outputs": [
    {
     "data": {
      "text/html": [
       "<div>\n",
       "<style scoped>\n",
       "    .dataframe tbody tr th:only-of-type {\n",
       "        vertical-align: middle;\n",
       "    }\n",
       "\n",
       "    .dataframe tbody tr th {\n",
       "        vertical-align: top;\n",
       "    }\n",
       "\n",
       "    .dataframe thead th {\n",
       "        text-align: right;\n",
       "    }\n",
       "</style>\n",
       "<table border=\"1\" class=\"dataframe\">\n",
       "  <thead>\n",
       "    <tr style=\"text-align: right;\">\n",
       "      <th></th>\n",
       "      <th>dst_IP</th>\n",
       "      <th>Organisation</th>\n",
       "      <th>Count</th>\n",
       "    </tr>\n",
       "  </thead>\n",
       "  <tbody>\n",
       "    <tr>\n",
       "      <th>0</th>\n",
       "      <td>103.37.198.100</td>\n",
       "      <td>A-STAR</td>\n",
       "      <td>3841</td>\n",
       "    </tr>\n",
       "    <tr>\n",
       "      <th>1</th>\n",
       "      <td>137.132.228.15</td>\n",
       "      <td>NUS Information Technology</td>\n",
       "      <td>3715</td>\n",
       "    </tr>\n",
       "    <tr>\n",
       "      <th>2</th>\n",
       "      <td>202.21.159.244</td>\n",
       "      <td>Republic Polytechnic. Multihoming AS Singapore</td>\n",
       "      <td>2446</td>\n",
       "    </tr>\n",
       "    <tr>\n",
       "      <th>3</th>\n",
       "      <td>192.101.107.153</td>\n",
       "      <td>ESNET-AS</td>\n",
       "      <td>2368</td>\n",
       "    </tr>\n",
       "    <tr>\n",
       "      <th>4</th>\n",
       "      <td>103.21.126.2</td>\n",
       "      <td>Powai</td>\n",
       "      <td>2056</td>\n",
       "    </tr>\n",
       "  </tbody>\n",
       "</table>\n",
       "</div>"
      ],
      "text/plain": [
       "            dst_IP                                    Organisation  Count\n",
       "0   103.37.198.100                                          A-STAR   3841\n",
       "1   137.132.228.15                      NUS Information Technology   3715\n",
       "2   202.21.159.244  Republic Polytechnic. Multihoming AS Singapore   2446\n",
       "3  192.101.107.153                                        ESNET-AS   2368\n",
       "4     103.21.126.2                                           Powai   2056"
      ]
     },
     "execution_count": 8,
     "metadata": {},
     "output_type": "execute_result"
    }
   ],
   "source": [
    "tempData = flowData\n",
    "topListeners = tempData['dst_IP'].value_counts().to_frame(name=\"Top 5 Listeners\")\n",
    "topListeners.reset_index(inplace=True)\n",
    "topListeners.columns=['dst_IP','Count']\n",
    "topListeners = topListeners.head(5)\n",
    "topListeners[\"Organisation\"]= topListeners['dst_IP'].apply(getOrg)\n",
    "topListeners = swap_columns(topListeners,'Count','Organisation')\n",
    "topListeners.head()"
   ]
  },
  {
   "cell_type": "markdown",
   "id": "6bdb441f",
   "metadata": {},
   "source": [
    "### EXERCISE 4B: TRANSPORT PROTOCOL "
   ]
  },
  {
   "cell_type": "markdown",
   "id": "55d2d444",
   "metadata": {},
   "source": [
    "Function to determine TCP/UDP protocol"
   ]
  },
  {
   "cell_type": "markdown",
   "id": "6a7e8c18",
   "metadata": {},
   "source": [
    "Source: https://www.iana.org/assignments/service-names-port-numbers/service-names-port-numbers.xhtml"
   ]
  },
  {
   "cell_type": "code",
   "execution_count": 9,
   "id": "1f5411d4",
   "metadata": {},
   "outputs": [],
   "source": [
    "tProtocols = {\n",
    "    6    : \"TCP\",\n",
    "    17   : \"UDP\" \n",
    "}\n",
    "def prtocolName(protocolNo): \n",
    "    if(protocolNo not in tProtocols):\n",
    "        return \"others\"\n",
    "    return tProtocols[protocolNo]"
   ]
  },
  {
   "cell_type": "code",
   "execution_count": 10,
   "id": "bbf8c973",
   "metadata": {},
   "outputs": [
    {
     "data": {
      "text/html": [
       "<div>\n",
       "<style scoped>\n",
       "    .dataframe tbody tr th:only-of-type {\n",
       "        vertical-align: middle;\n",
       "    }\n",
       "\n",
       "    .dataframe tbody tr th {\n",
       "        vertical-align: top;\n",
       "    }\n",
       "\n",
       "    .dataframe thead th {\n",
       "        text-align: right;\n",
       "    }\n",
       "</style>\n",
       "<table border=\"1\" class=\"dataframe\">\n",
       "  <thead>\n",
       "    <tr style=\"text-align: right;\">\n",
       "      <th></th>\n",
       "      <th>Header Value</th>\n",
       "      <th>Transport layer protocol</th>\n",
       "      <th># of Packet</th>\n",
       "      <th>%</th>\n",
       "    </tr>\n",
       "  </thead>\n",
       "  <tbody>\n",
       "    <tr>\n",
       "      <th>0</th>\n",
       "      <td>6</td>\n",
       "      <td>TCP</td>\n",
       "      <td>56064</td>\n",
       "      <td>82.368324</td>\n",
       "    </tr>\n",
       "    <tr>\n",
       "      <th>1</th>\n",
       "      <td>17</td>\n",
       "      <td>UDP</td>\n",
       "      <td>9462</td>\n",
       "      <td>13.901418</td>\n",
       "    </tr>\n",
       "    <tr>\n",
       "      <th>2</th>\n",
       "      <td>None</td>\n",
       "      <td>others</td>\n",
       "      <td>2539</td>\n",
       "      <td>3.730258</td>\n",
       "    </tr>\n",
       "  </tbody>\n",
       "</table>\n",
       "</div>"
      ],
      "text/plain": [
       "  Header Value Transport layer protocol  # of Packet          %\n",
       "0            6                      TCP        56064  82.368324\n",
       "1           17                      UDP         9462  13.901418\n",
       "2         None                   others         2539   3.730258"
      ]
     },
     "execution_count": 10,
     "metadata": {},
     "output_type": "execute_result"
    }
   ],
   "source": [
    "tempData = flowData\n",
    "protocols = tempData['IP_protocol'].value_counts().to_frame()\n",
    "protocols.reset_index(inplace=True)\n",
    "protocols.columns=['Header Value','# of Packet']\n",
    "protocols['Transport layer protocol'] = protocols['Header Value'].apply(prtocolName)\n",
    "protocols['%'] = protocols['# of Packet'].apply(lambda x:(x/len(tempData))*100)\n",
    "# Calculate combined % for other protocols\n",
    "otherProtocols = protocols.loc[protocols['Transport layer protocol'] == 'others']\n",
    "otherProtocols = {'Header Value': None, '# of Packet': otherProtocols['# of Packet'].sum()\n",
    "                 , 'Transport layer protocol': 'others', '%' : otherProtocols['%'].sum()}\n",
    "protocols = protocols[~protocols[\"Transport layer protocol\"].str.contains(\"others\")]\n",
    "protocols = pd.concat([protocols,pd.DataFrame([otherProtocols])],ignore_index=True)\n",
    "protocols = swap_columns(protocols,'# of Packet','Transport layer protocol')\n",
    "protocols"
   ]
  },
  {
   "cell_type": "markdown",
   "id": "e1ae99b2",
   "metadata": {},
   "source": [
    "### EXERCISE 4C: APPLICATIONS PROTOCOL"
   ]
  },
  {
   "cell_type": "markdown",
   "id": "10b77877",
   "metadata": {},
   "source": [
    "Function to determine port service name"
   ]
  },
  {
   "cell_type": "markdown",
   "id": "323ab04e",
   "metadata": {},
   "source": [
    "Source: https://www.iana.org/assignments/service-names-port-numbers/service-names-port-numbers.xhtml"
   ]
  },
  {
   "cell_type": "code",
   "execution_count": 11,
   "id": "90c2ef0f",
   "metadata": {},
   "outputs": [],
   "source": [
    "def portService(port):\n",
    "    try:\n",
    "        result = socket.getservbyport(port)\n",
    "        return result\n",
    "    except:\n",
    "        if(port >= 1024 and port <= 49151):\n",
    "            return \"User Ports\"\n",
    "        elif(port >= 49152 and port <= 65535):\n",
    "            return \"Private Ports\"\n",
    "        else:\n",
    "            return None"
   ]
  },
  {
   "cell_type": "code",
   "execution_count": 12,
   "id": "8e4063e7",
   "metadata": {
    "scrolled": true
   },
   "outputs": [
    {
     "data": {
      "text/html": [
       "<div>\n",
       "<style scoped>\n",
       "    .dataframe tbody tr th:only-of-type {\n",
       "        vertical-align: middle;\n",
       "    }\n",
       "\n",
       "    .dataframe tbody tr th {\n",
       "        vertical-align: top;\n",
       "    }\n",
       "\n",
       "    .dataframe thead th {\n",
       "        text-align: right;\n",
       "    }\n",
       "</style>\n",
       "<table border=\"1\" class=\"dataframe\">\n",
       "  <thead>\n",
       "    <tr style=\"text-align: right;\">\n",
       "      <th></th>\n",
       "      <th>Destination IP port number</th>\n",
       "      <th>Service</th>\n",
       "      <th># of Packets</th>\n",
       "    </tr>\n",
       "  </thead>\n",
       "  <tbody>\n",
       "    <tr>\n",
       "      <th>0</th>\n",
       "      <td>443</td>\n",
       "      <td>https</td>\n",
       "      <td>13423</td>\n",
       "    </tr>\n",
       "    <tr>\n",
       "      <th>1</th>\n",
       "      <td>80</td>\n",
       "      <td>http</td>\n",
       "      <td>2647</td>\n",
       "    </tr>\n",
       "    <tr>\n",
       "      <th>2</th>\n",
       "      <td>52866</td>\n",
       "      <td>Private Ports</td>\n",
       "      <td>2068</td>\n",
       "    </tr>\n",
       "    <tr>\n",
       "      <th>3</th>\n",
       "      <td>45512</td>\n",
       "      <td>User Ports</td>\n",
       "      <td>1356</td>\n",
       "    </tr>\n",
       "    <tr>\n",
       "      <th>4</th>\n",
       "      <td>56152</td>\n",
       "      <td>Private Ports</td>\n",
       "      <td>1341</td>\n",
       "    </tr>\n",
       "  </tbody>\n",
       "</table>\n",
       "</div>"
      ],
      "text/plain": [
       "   Destination IP port number        Service  # of Packets\n",
       "0                         443          https         13423\n",
       "1                          80           http          2647\n",
       "2                       52866  Private Ports          2068\n",
       "3                       45512     User Ports          1356\n",
       "4                       56152  Private Ports          1341"
      ]
     },
     "execution_count": 12,
     "metadata": {},
     "output_type": "execute_result"
    }
   ],
   "source": [
    "tempData = flowData\n",
    "protocols = tempData['udp_dst_port/tcp_dst_port/icmp_code'].value_counts().to_frame(name=\"Application Protocol Statistics\")\n",
    "protocols.reset_index(inplace=True)\n",
    "protocols.columns=['Destination IP port number','# of Packets']\n",
    "protocols = protocols.head(5)\n",
    "protocols['Service'] = protocols['Destination IP port number'].apply(portService)\n",
    "swap_columns(protocols,'# of Packets','Service')"
   ]
  },
  {
   "cell_type": "markdown",
   "id": "1a44568a",
   "metadata": {},
   "source": [
    "### EXERCISE 4D: TRAFFIC INTENSITY"
   ]
  },
  {
   "cell_type": "code",
   "execution_count": 13,
   "id": "b0901110",
   "metadata": {},
   "outputs": [
    {
     "name": "stdout",
     "output_type": "stream",
     "text": [
      "Total calculated sampled traffic (MB): 126519.18 MB\n"
     ]
    }
   ],
   "source": [
    "tempData = flowData\n",
    "samplingRate = 2048\n",
    "totalIPSize = tempData['IP_size'].sum() * samplingRate\n",
    "totalIPSize = totalIPSize / 2**10  / 2**10 # Convert to MB\n",
    "print(\"Total calculated sampled traffic (MB): {0:0.2f} MB\".format(totalIPSize))"
   ]
  },
  {
   "cell_type": "markdown",
   "id": "7bdea21d",
   "metadata": {},
   "source": [
    "### EXERCISE 4E: ADDITIONAL ANALYSIS"
   ]
  },
  {
   "cell_type": "markdown",
   "id": "4df8bf30",
   "metadata": {},
   "source": [
    "#### 1. Top 5 Communication Pairs"
   ]
  },
  {
   "cell_type": "code",
   "execution_count": 14,
   "id": "6f896790",
   "metadata": {},
   "outputs": [
    {
     "name": "stdout",
     "output_type": "stream",
     "text": [
      "Top 5 Communcation Pairs sorted by Comm Count\n"
     ]
    },
    {
     "data": {
      "text/html": [
       "<div>\n",
       "<style scoped>\n",
       "    .dataframe tbody tr th:only-of-type {\n",
       "        vertical-align: middle;\n",
       "    }\n",
       "\n",
       "    .dataframe tbody tr th {\n",
       "        vertical-align: top;\n",
       "    }\n",
       "\n",
       "    .dataframe thead th {\n",
       "        text-align: right;\n",
       "    }\n",
       "</style>\n",
       "<table border=\"1\" class=\"dataframe\">\n",
       "  <thead>\n",
       "    <tr style=\"text-align: right;\">\n",
       "      <th></th>\n",
       "      <th>Src_IP - dst_IP</th>\n",
       "      <th>Comm Count</th>\n",
       "      <th>Total IP Size (MB)</th>\n",
       "    </tr>\n",
       "  </thead>\n",
       "  <tbody>\n",
       "    <tr>\n",
       "      <th>4</th>\n",
       "      <td>137.132.228.15 - 193.62.192.8</td>\n",
       "      <td>4951</td>\n",
       "      <td>4.141407</td>\n",
       "    </tr>\n",
       "    <tr>\n",
       "      <th>139</th>\n",
       "      <td>130.14.250.11 - 103.37.198.100</td>\n",
       "      <td>2842</td>\n",
       "      <td>3.729961</td>\n",
       "    </tr>\n",
       "    <tr>\n",
       "      <th>36</th>\n",
       "      <td>14.139.196.58 - 192.101.107.153</td>\n",
       "      <td>2368</td>\n",
       "      <td>0.090342</td>\n",
       "    </tr>\n",
       "    <tr>\n",
       "      <th>1184</th>\n",
       "      <td>140.112.8.139 - 103.21.126.2</td>\n",
       "      <td>2056</td>\n",
       "      <td>2.941132</td>\n",
       "    </tr>\n",
       "    <tr>\n",
       "      <th>1653</th>\n",
       "      <td>140.90.101.61 - 167.205.52.8</td>\n",
       "      <td>1752</td>\n",
       "      <td>2.119951</td>\n",
       "    </tr>\n",
       "  </tbody>\n",
       "</table>\n",
       "</div>"
      ],
      "text/plain": [
       "                      Src_IP - dst_IP  Comm Count  Total IP Size (MB)\n",
       "4       137.132.228.15 - 193.62.192.8        4951            4.141407\n",
       "139    130.14.250.11 - 103.37.198.100        2842            3.729961\n",
       "36    14.139.196.58 - 192.101.107.153        2368            0.090342\n",
       "1184     140.112.8.139 - 103.21.126.2        2056            2.941132\n",
       "1653     140.90.101.61 - 167.205.52.8        1752            2.119951"
      ]
     },
     "execution_count": 14,
     "metadata": {},
     "output_type": "execute_result"
    }
   ],
   "source": [
    "tempData = flowData\n",
    "pairs = {}\n",
    "keyFormat = \"{ip1} - {ip2}\"\n",
    "for index,row in tempData.iterrows():\n",
    "    key1 = keyFormat.format(ip1=row['src_IP'],ip2=row['dst_IP'])\n",
    "    key2 = keyFormat.format(ip1=row['dst_IP'],ip2=row['src_IP'])\n",
    "    if(key1 in pairs):\n",
    "        pairs[key1][0] += 1\n",
    "        pairs[key1][1] += row['IP_size']\n",
    "        continue\n",
    "    elif(key2 in pairs):\n",
    "        pairs[key2][0] += 1\n",
    "        pairs[key2][1] += row['IP_size']\n",
    "        continue\n",
    "    pairs[key1] = [1,row['IP_size']]\n",
    "\n",
    "# pairs = {k: v for k, v in sorted(pairs.items(), key=lambda item: item[1] , reverse=True)}\n",
    "# top5pairs = dict(itertools.islice(pairs.items(), 5)) \n",
    "# pd.DataFrame(top5pairs.items(), columns = ['Pair', 'Commnuication Count'])\n",
    "top5pairs = pd.DataFrame([([k] + v) for k, v in pairs.items()], columns=['Src_IP - dst_IP','Comm Count','Total IP Size (MB)'])\n",
    "print(\"Top 5 Communcation Pairs sorted by Comm Count\")\n",
    "top5pairs['Total IP Size (MB)'] = top5pairs['Total IP Size (MB)'].apply(lambda x:x/ 2**10  / 2**10)\n",
    "top5pairs.sort_values(by=['Comm Count'],ascending=False).head(5)"
   ]
  },
  {
   "cell_type": "code",
   "execution_count": 15,
   "id": "5fce11a7",
   "metadata": {},
   "outputs": [
    {
     "name": "stdout",
     "output_type": "stream",
     "text": [
      "Top 5 Communcation Pairs sorted by Total IP Size\n"
     ]
    },
    {
     "data": {
      "text/html": [
       "<div>\n",
       "<style scoped>\n",
       "    .dataframe tbody tr th:only-of-type {\n",
       "        vertical-align: middle;\n",
       "    }\n",
       "\n",
       "    .dataframe tbody tr th {\n",
       "        vertical-align: top;\n",
       "    }\n",
       "\n",
       "    .dataframe thead th {\n",
       "        text-align: right;\n",
       "    }\n",
       "</style>\n",
       "<table border=\"1\" class=\"dataframe\">\n",
       "  <thead>\n",
       "    <tr style=\"text-align: right;\">\n",
       "      <th></th>\n",
       "      <th>Src_IP - dst_IP</th>\n",
       "      <th>Comm Count</th>\n",
       "      <th>Total IP Size (MB)</th>\n",
       "    </tr>\n",
       "  </thead>\n",
       "  <tbody>\n",
       "    <tr>\n",
       "      <th>4</th>\n",
       "      <td>137.132.228.15 - 193.62.192.8</td>\n",
       "      <td>4951</td>\n",
       "      <td>4.141407</td>\n",
       "    </tr>\n",
       "    <tr>\n",
       "      <th>139</th>\n",
       "      <td>130.14.250.11 - 103.37.198.100</td>\n",
       "      <td>2842</td>\n",
       "      <td>3.729961</td>\n",
       "    </tr>\n",
       "    <tr>\n",
       "      <th>1184</th>\n",
       "      <td>140.112.8.139 - 103.21.126.2</td>\n",
       "      <td>2056</td>\n",
       "      <td>2.941132</td>\n",
       "    </tr>\n",
       "    <tr>\n",
       "      <th>1653</th>\n",
       "      <td>140.90.101.61 - 167.205.52.8</td>\n",
       "      <td>1752</td>\n",
       "      <td>2.119951</td>\n",
       "    </tr>\n",
       "    <tr>\n",
       "      <th>9</th>\n",
       "      <td>193.62.192.6 - 202.6.241.101</td>\n",
       "      <td>1385</td>\n",
       "      <td>1.924501</td>\n",
       "    </tr>\n",
       "  </tbody>\n",
       "</table>\n",
       "</div>"
      ],
      "text/plain": [
       "                     Src_IP - dst_IP  Comm Count  Total IP Size (MB)\n",
       "4      137.132.228.15 - 193.62.192.8        4951            4.141407\n",
       "139   130.14.250.11 - 103.37.198.100        2842            3.729961\n",
       "1184    140.112.8.139 - 103.21.126.2        2056            2.941132\n",
       "1653    140.90.101.61 - 167.205.52.8        1752            2.119951\n",
       "9       193.62.192.6 - 202.6.241.101        1385            1.924501"
      ]
     },
     "execution_count": 15,
     "metadata": {},
     "output_type": "execute_result"
    }
   ],
   "source": [
    "print(\"Top 5 Communcation Pairs sorted by Total IP Size\")\n",
    "top5pairs.sort_values(by=['Total IP Size (MB)'],ascending=False).head(5)"
   ]
  },
  {
   "cell_type": "markdown",
   "id": "91ed6e63",
   "metadata": {},
   "source": [
    "Get IP Geolocation Information"
   ]
  },
  {
   "cell_type": "code",
   "execution_count": null,
   "id": "12edecc4",
   "metadata": {},
   "outputs": [],
   "source": [
    "tempData = flowData\n",
    "ips = list(set(tempData['src_IP'].to_list() + tempData['dst_IP'].to_list()))\n",
    "main_ips_df = pd.DataFrame()\n",
    "i = 0\n",
    "while i < len(ips):\n",
    "    try:\n",
    "        res = requests.post(\"http://ip-api.com/batch\",json=ips[i:i+100]).json()\n",
    "        frames = [main_ips_df,pd.DataFrame(res)]\n",
    "        main_ips_df = pd.concat(frames)\n",
    "        i+=100\n",
    "    except:\n",
    "        continue\n",
    "main_ips_df = main_ips_df.rename(columns = {'query':'ip'})"
   ]
  },
  {
   "cell_type": "markdown",
   "id": "5e991ac2",
   "metadata": {},
   "source": [
    "#### 2. Top 20 Countries with Most Users"
   ]
  },
  {
   "cell_type": "markdown",
   "id": "1b788915",
   "metadata": {},
   "source": [
    "Data are provided by source http://ip-api.com/. Data may differ from other APIs."
   ]
  },
  {
   "cell_type": "code",
   "execution_count": null,
   "id": "df06f94c",
   "metadata": {},
   "outputs": [],
   "source": [
    "ips_df = main_ips_df\n",
    "ip_by_country = pd.DataFrame(ips_df.groupby('country').size(), columns=['count'])\n",
    "ip_by_country.reset_index(inplace=True)\n",
    "plot = sns.catplot(x='count', y='country', kind=\"bar\" \n",
    "                   ,data = ip_by_country.sort_values(by=['count'],ascending=False).head(20)\n",
    "                   ,orient='h')\n",
    "ax = plot.facet_axis(0, 0)\n",
    "for c in ax.containers:\n",
    "    labels = [f'{v.get_width()}' for v in c]\n",
    "    ax.bar_label(c, labels=labels, label_type='edge')"
   ]
  },
  {
   "cell_type": "markdown",
   "id": "fd97d86c",
   "metadata": {},
   "source": [
    "#### 3. IP Clusters on World Map and Geolocations"
   ]
  },
  {
   "cell_type": "markdown",
   "id": "8dd7535a",
   "metadata": {},
   "source": [
    "Create Interactive World Map which shows geolocation of all available IP Addresses.\n",
    "Data are provided by source http://ip-api.com/. Data may differ from other APIs."
   ]
  },
  {
   "cell_type": "markdown",
   "id": "c67db15f",
   "metadata": {},
   "source": [
    "Hosting html at: https://raw.githack.com/shinthantaun/CZ3006_Comp_Network_Lab4-/main/ipNetMap.html"
   ]
  },
  {
   "cell_type": "code",
   "execution_count": null,
   "id": "72a4a481",
   "metadata": {},
   "outputs": [],
   "source": [
    "ips_df = main_ips_df\n",
    "ipNetMap = folium.Map(location = [2, 0], zoom_start = 2)\n",
    "marker_cluster = MarkerCluster().add_to(ipNetMap)\n",
    "privateip=[] #Save unaccessible IP Address explicitly as 'privateip'\n",
    "for i in range(0, len(ips_df)):\n",
    "    try:\n",
    "        popupText = 'ip:{ip} city:{city}'.format(ip=ips_df.iloc[i]['ip'], city=ips_df.iloc[i]['city'])\n",
    "        popupText = folium.Popup(popupText, parse_html=True)\n",
    "        folium.CircleMarker(location = [ips_df.iloc[i]['lat'], ips_df.iloc[i]['lon']],\n",
    "                            popup=popupText,\n",
    "                            radius = 6,fill_opacity = 0.9).add_to(marker_cluster)\n",
    "    except:\n",
    "        privateip.insert(0,ips_df.iloc[i].tolist())\n",
    "        continue\n",
    "ipNetMap.save('ipNetMap.html')\n",
    "ipNetMap"
   ]
  },
  {
   "cell_type": "markdown",
   "id": "4a35fa81",
   "metadata": {},
   "source": [
    "#### 4. Private or Inaccessible IP Addresses"
   ]
  },
  {
   "cell_type": "code",
   "execution_count": null,
   "id": "871593c8",
   "metadata": {},
   "outputs": [],
   "source": [
    "ips_df = main_ips_df\n",
    "inaccesibleIPs = pd.DataFrame(privateip, columns=ips_df.columns)\n",
    "inaccesibleIPs = inaccesibleIPs.rename(columns = {'message':'reason'})\n",
    "inaccesibleIPs[['ip','reason']]"
   ]
  },
  {
   "cell_type": "markdown",
   "id": "29c89814",
   "metadata": {},
   "source": [
    "#### 5. Organization Network Graph"
   ]
  },
  {
   "cell_type": "markdown",
   "id": "86743b7c",
   "metadata": {},
   "source": [
    "Count Communication Pairs by organisation name only. Else, ignore."
   ]
  },
  {
   "cell_type": "code",
   "execution_count": null,
   "id": "2e459937",
   "metadata": {},
   "outputs": [],
   "source": [
    "ips_df = main_ips_df\n",
    "orgPairs = {}\n",
    "\n",
    "for key,value in pairs.items():\n",
    "    ippairs = key.split(' - ')\n",
    "    node1 = ips_df.loc[ips_df['ip'] == ippairs[0]]\n",
    "    node2 = ips_df.loc[ips_df['ip'] == ippairs[1]]\n",
    "    \n",
    "    if(node1.empty or node2.empty):\n",
    "        continue\n",
    "    \n",
    "    node1Org = node2Org = None\n",
    "    if(node1['org'].item() != '' and not pd.isnull(node1['org'].item())):\n",
    "        node1Org = node1['org'].item()\n",
    "    if(node2['org'].item() != '' and not pd.isnull(node2['org'].item())):\n",
    "        node2Org = node2['org'].item()\n",
    "    \n",
    "    if(node1Org is not None and node2Org is not None):\n",
    "        key1 = (node1['org'].item() , node2['org'].item())\n",
    "        key2 = (node2['org'].item() , node1['org'].item())\n",
    "    else:        \n",
    "        continue\n",
    "    \n",
    "    if(key1 in orgPairs):\n",
    "        orgPairs[key1] += 1\n",
    "    elif(key2 in orgPairs):\n",
    "        orgPairs[key2] += 1\n",
    "    else:\n",
    "        orgPairs[key1] = 1\n",
    "orgPairs = {k: v for k, v in sorted(orgPairs.items(), key=lambda item: item[1] , reverse=True)}"
   ]
  },
  {
   "cell_type": "markdown",
   "id": "4dfef96b",
   "metadata": {},
   "source": [
    "Create Interactive Network Graph. Save as html file explcitly since this graph is too heavy to load at Jupyter Notebook."
   ]
  },
  {
   "cell_type": "code",
   "execution_count": null,
   "id": "23eb938c",
   "metadata": {},
   "outputs": [],
   "source": [
    "temp_df = orgPairs\n",
    "graph2 = nx.Graph()\n",
    "# threshHold = 2\n",
    "i=0\n",
    "for key,value in orgPairs.items():\n",
    "    node1 = key[0]\n",
    "    node2 = key[1]\n",
    "#     if(value <threshHold):\n",
    "#         continue\n",
    "    if(node1 == node2):\n",
    "        continue\n",
    "    \n",
    "    if(not graph2.has_node(node1)):\n",
    "        graph2.add_node(node1)\n",
    "    elif(not graph2.has_node(node2)):\n",
    "        graph2.add_node(node2)\n",
    "    graph2.add_edge(node1, node2, weight=1)        \n",
    "    \n",
    "nt = Network(height='1000px', width='100%', bgcolor='#355764', font_color='#81CACF', notebook=True)\n",
    "nt.from_nx(graph2)\n",
    "#nt.show_buttons()\n",
    "nt.save_graph('orgNetwork.html')"
   ]
  },
  {
   "cell_type": "markdown",
   "id": "fdeffbfa",
   "metadata": {},
   "source": [
    "Hosting html at https://raw.githack.com/shinthantaun/CZ3006_Comp_Network_Lab4-/main/orgNetwork.html"
   ]
  },
  {
   "cell_type": "code",
   "execution_count": null,
   "id": "c700a960",
   "metadata": {},
   "outputs": [],
   "source": [
    "# nt.show('orgNetwork.html')"
   ]
  },
  {
   "cell_type": "markdown",
   "id": "2e7220d8",
   "metadata": {},
   "source": [
    "#### 6. Overall Network Graph"
   ]
  },
  {
   "cell_type": "markdown",
   "id": "e941dde9",
   "metadata": {},
   "source": [
    "Count Communication Pairs by organisation name if it's avaiable or by IP Address. Else ignore."
   ]
  },
  {
   "cell_type": "code",
   "execution_count": null,
   "id": "671b2c80",
   "metadata": {},
   "outputs": [],
   "source": [
    "ips_df = main_ips_df\n",
    "OrgIpPairs = {}\n",
    "\n",
    "for key,value in pairs.items():\n",
    "    ippairs = key.split(' - ')\n",
    "    node1 = ips_df.loc[ips_df['ip'] == ippairs[0]]\n",
    "    node2 = ips_df.loc[ips_df['ip'] == ippairs[1]]\n",
    "    \n",
    "    if(node1.empty or node2.empty):\n",
    "        continue\n",
    "    \n",
    "    node1Org = node2Org = None\n",
    "    if(node1['org'].item() != '' and not pd.isnull(node1['org'].item())):\n",
    "        node1Org = node1['org'].item()\n",
    "    if(node2['org'].item() != '' and not pd.isnull(node2['org'].item())):\n",
    "        node2Org = node2['org'].item()\n",
    "    \n",
    "    if(node1Org is not None and node2Org is not None):\n",
    "        key1 = (node1['org'].item() , node2['org'].item())\n",
    "        key2 = (node2['org'].item() , node1['org'].item())\n",
    "    elif(node1Org is None and node2Org is not None):\n",
    "        key1 = (node1['ip'].item() , node2['org'].item())\n",
    "        key2 = (node2['org'].item() , node1['ip'].item())\n",
    "    elif(node1Org is not None and node2Org is None):\n",
    "        key1 = (node1['org'].item() , node2['ip'].item())\n",
    "        key2 = (node2['ip'].item() , node1['org'].item())\n",
    "    else:        \n",
    "        key1 = (node1['ip'].item() , node2['ip'].item())\n",
    "        key2 = (node2['ip'].item() , node1['ip'].item())\n",
    "    \n",
    "    \n",
    "    if(key1 in OrgIpPairs):\n",
    "        OrgIpPairs[key1] += 1\n",
    "    elif(key2 in OrgIpPairs):\n",
    "        OrgIpPairs[key2] += 1\n",
    "    else:\n",
    "        OrgIpPairs[key1] = 1\n",
    "        \n",
    "OrgIpPairs = {k: v for k, v in sorted(OrgIpPairs.items(), key=lambda item: item[1] , reverse=True)}"
   ]
  },
  {
   "cell_type": "markdown",
   "id": "6c28805b",
   "metadata": {},
   "source": [
    "Create Interactive Network Graph. Save as html file explcitly since this graph is too heavy to load at Jupyter Notebook."
   ]
  },
  {
   "cell_type": "code",
   "execution_count": null,
   "id": "9f6adf3f",
   "metadata": {
    "scrolled": true
   },
   "outputs": [],
   "source": [
    "temp_df = OrgIpPairs\n",
    "graph = nx.Graph()\n",
    "\n",
    "for key,value in temp_df.items():\n",
    "    node1 = key[0]\n",
    "    node2 = key[1]\n",
    "\n",
    "    if(node1 == node2):\n",
    "        continue\n",
    "    \n",
    "    if(not graph.has_node(node1)):\n",
    "        graph.add_node(node1)\n",
    "    elif(not graph.has_node(node2)):\n",
    "        graph.add_node(node2)\n",
    "    graph.add_edge(node1, node2, weight=1)        \n",
    "    \n",
    "nt = Network(height='1000px', width='100%', bgcolor='#355764', font_color='#81CACF',  notebook=True)\n",
    "nt.from_nx(graph)\n",
    "#nt.show_buttons()\n",
    "nt.save_graph('ipNetwork.html')"
   ]
  },
  {
   "cell_type": "markdown",
   "id": "06cea268",
   "metadata": {},
   "source": [
    "Hosting html at https://raw.githack.com/shinthantaun/CZ3006_Comp_Network_Lab4-/main/ipNetwork.html"
   ]
  },
  {
   "cell_type": "code",
   "execution_count": null,
   "id": "a32e4d6d",
   "metadata": {},
   "outputs": [],
   "source": []
  }
 ],
 "metadata": {
  "kernelspec": {
   "display_name": "Python 3 (ipykernel)",
   "language": "python",
   "name": "python3"
  },
  "language_info": {
   "codemirror_mode": {
    "name": "ipython",
    "version": 3
   },
   "file_extension": ".py",
   "mimetype": "text/x-python",
   "name": "python",
   "nbconvert_exporter": "python",
   "pygments_lexer": "ipython3",
   "version": "3.10.8"
  }
 },
 "nbformat": 4,
 "nbformat_minor": 5
}
